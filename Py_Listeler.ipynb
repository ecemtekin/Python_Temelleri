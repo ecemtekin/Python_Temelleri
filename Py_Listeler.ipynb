{
 "cells": [
  {
   "cell_type": "markdown",
   "id": "ae4ceaec-adba-492a-b6ae-d06d9ce1aac6",
   "metadata": {},
   "source": [
    "# LİSTELER\n"
   ]
  },
  {
   "cell_type": "markdown",
   "id": "02a1ba84-3657-491f-8c84-4daec0a58996",
   "metadata": {},
   "source": [
    "### Liste oluşturma"
   ]
  },
  {
   "cell_type": "markdown",
   "id": "9c9e5ef2-558e-4120-a143-01cc04e99f50",
   "metadata": {},
   "source": [
    "Listeler köşeli bir parantez içine veriler veya değerler konarak oluşturulur."
   ]
  },
  {
   "cell_type": "code",
   "execution_count": 4,
   "id": "15fdf476-5398-4135-9105-210ea1f575fd",
   "metadata": {},
   "outputs": [
    {
     "data": {
      "text/plain": [
       "[3, 4, 5, 6, 'Elma', 3.14, 5.324]"
      ]
     },
     "execution_count": 4,
     "metadata": {},
     "output_type": "execute_result"
    }
   ],
   "source": [
    "# Liste değişkeni. Değişik veri tiplerinden değerleri saklayabiliyoruz.\n",
    "liste = [3,4,5,6,\"Elma\",3.14,5.324]\n",
    "liste"
   ]
  },
  {
   "cell_type": "code",
   "execution_count": 6,
   "id": "1f654452-a172-4311-8572-ac3d18fdc0ca",
   "metadata": {},
   "outputs": [
    {
     "data": {
      "text/plain": [
       "[3, 4, 5, 6, 7, 8, 9]"
      ]
     },
     "execution_count": 6,
     "metadata": {},
     "output_type": "execute_result"
    }
   ],
   "source": [
    "liste2 = [3,4,5,6,7,8,9]\n",
    "liste2"
   ]
  },
  {
   "cell_type": "code",
   "execution_count": 8,
   "id": "9c4b248b-2432-4d04-9a76-e230d8da7b46",
   "metadata": {},
   "outputs": [
    {
     "data": {
      "text/plain": [
       "[]"
      ]
     },
     "execution_count": 8,
     "metadata": {},
     "output_type": "execute_result"
    }
   ],
   "source": [
    "# Boş liste\n",
    "bos_liste = []\n",
    "bos_liste"
   ]
  },
  {
   "cell_type": "code",
   "execution_count": 12,
   "id": "2eb1ca45-605c-42f9-88c3-fdb3b3158f43",
   "metadata": {},
   "outputs": [
    {
     "data": {
      "text/plain": [
       "[]"
      ]
     },
     "execution_count": 12,
     "metadata": {},
     "output_type": "execute_result"
    }
   ],
   "source": [
    "# Boş liste .list() fonksiyonuyla da oluşturulabilir.\n",
    "bos_liste = list()\n",
    "bos_liste"
   ]
  },
  {
   "cell_type": "code",
   "execution_count": 16,
   "id": "e64d4324-de7a-4aa0-a71c-2f8d7334cbcc",
   "metadata": {},
   "outputs": [
    {
     "data": {
      "text/plain": [
       "10"
      ]
     },
     "execution_count": 16,
     "metadata": {},
     "output_type": "execute_result"
    }
   ],
   "source": [
    "# len fonksiyonu liste üzerinde de kullanılabilir.\n",
    "listo = [1,2,3,4,5,6,7,8,9,\"e\"]\n",
    "len(listo)"
   ]
  },
  {
   "cell_type": "markdown",
   "id": "d9f7732b-afd6-46bd-97bc-a51849d2bad1",
   "metadata": {},
   "source": [
    "Bir string list() fonksiyonu yardımıyla listeye dönüştürülebilir."
   ]
  },
  {
   "cell_type": "code",
   "execution_count": 19,
   "id": "8e2af4f1-527e-459c-89fc-4fc400bcf0d5",
   "metadata": {},
   "outputs": [
    {
     "data": {
      "text/plain": [
       "['Ç',\n",
       " 'a',\n",
       " 'm',\n",
       " 'l',\n",
       " 'ı',\n",
       " 'c',\n",
       " 'a',\n",
       " ' ',\n",
       " 'K',\n",
       " 'ı',\n",
       " 'z',\n",
       " ' ',\n",
       " 'L',\n",
       " 'i',\n",
       " 's',\n",
       " 'e',\n",
       " 's',\n",
       " 'i']"
      ]
     },
     "execution_count": 19,
     "metadata": {},
     "output_type": "execute_result"
    }
   ],
   "source": [
    "e = \"Çamlıca Kız Lisesi\"\n",
    "m = list(e)\n",
    "m"
   ]
  },
  {
   "cell_type": "code",
   "execution_count": 23,
   "id": "a5f392c3-2f18-458f-bfe4-bff1fb415bd9",
   "metadata": {},
   "outputs": [
    {
     "data": {
      "text/plain": [
       "['m', 'e', 'r', 'h', 'a', 'b', 'a']"
      ]
     },
     "execution_count": 23,
     "metadata": {},
     "output_type": "execute_result"
    }
   ],
   "source": [
    "k = \"merhaba\"\n",
    "l = list(k)\n",
    "l"
   ]
  },
  {
   "cell_type": "code",
   "execution_count": null,
   "id": "1aa11113-72f9-4adb-963e-f490f7236ec2",
   "metadata": {},
   "outputs": [],
   "source": []
  }
 ],
 "metadata": {
  "kernelspec": {
   "display_name": "Python 3 (ipykernel)",
   "language": "python",
   "name": "python3"
  },
  "language_info": {
   "codemirror_mode": {
    "name": "ipython",
    "version": 3
   },
   "file_extension": ".py",
   "mimetype": "text/x-python",
   "name": "python",
   "nbconvert_exporter": "python",
   "pygments_lexer": "ipython3",
   "version": "3.12.4"
  }
 },
 "nbformat": 4,
 "nbformat_minor": 5
}
