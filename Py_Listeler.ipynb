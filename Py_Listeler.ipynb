{
 "cells": [
  {
   "cell_type": "markdown",
   "id": "ae4ceaec-adba-492a-b6ae-d06d9ce1aac6",
   "metadata": {},
   "source": [
    "# LİSTELER\n"
   ]
  },
  {
   "cell_type": "markdown",
   "id": "02a1ba84-3657-491f-8c84-4daec0a58996",
   "metadata": {},
   "source": [
    "### Liste oluşturma"
   ]
  },
  {
   "cell_type": "markdown",
   "id": "9c9e5ef2-558e-4120-a143-01cc04e99f50",
   "metadata": {},
   "source": [
    "Listeler köşeli bir parantez içine veriler veya değerler konarak oluşturulur."
   ]
  },
  {
   "cell_type": "code",
   "execution_count": 4,
   "id": "15fdf476-5398-4135-9105-210ea1f575fd",
   "metadata": {},
   "outputs": [
    {
     "data": {
      "text/plain": [
       "[3, 4, 5, 6, 'Elma', 3.14, 5.324]"
      ]
     },
     "execution_count": 4,
     "metadata": {},
     "output_type": "execute_result"
    }
   ],
   "source": [
    "# Liste değişkeni. Değişik veri tiplerinden değerleri saklayabiliyoruz.\n",
    "liste = [3,4,5,6,\"Elma\",3.14,5.324]\n",
    "liste"
   ]
  },
  {
   "cell_type": "code",
   "execution_count": 6,
   "id": "1f654452-a172-4311-8572-ac3d18fdc0ca",
   "metadata": {},
   "outputs": [
    {
     "data": {
      "text/plain": [
       "[3, 4, 5, 6, 7, 8, 9]"
      ]
     },
     "execution_count": 6,
     "metadata": {},
     "output_type": "execute_result"
    }
   ],
   "source": [
    "liste2 = [3,4,5,6,7,8,9]\n",
    "liste2"
   ]
  },
  {
   "cell_type": "code",
   "execution_count": 8,
   "id": "9c4b248b-2432-4d04-9a76-e230d8da7b46",
   "metadata": {},
   "outputs": [
    {
     "data": {
      "text/plain": [
       "[]"
      ]
     },
     "execution_count": 8,
     "metadata": {},
     "output_type": "execute_result"
    }
   ],
   "source": [
    "# Boş liste\n",
    "bos_liste = []\n",
    "bos_liste"
   ]
  },
  {
   "cell_type": "code",
   "execution_count": 12,
   "id": "2eb1ca45-605c-42f9-88c3-fdb3b3158f43",
   "metadata": {},
   "outputs": [
    {
     "data": {
      "text/plain": [
       "[]"
      ]
     },
     "execution_count": 12,
     "metadata": {},
     "output_type": "execute_result"
    }
   ],
   "source": [
    "# Boş liste .list() fonksiyonuyla da oluşturulabilir.\n",
    "bos_liste = list()\n",
    "bos_liste"
   ]
  },
  {
   "cell_type": "code",
   "execution_count": 16,
   "id": "e64d4324-de7a-4aa0-a71c-2f8d7334cbcc",
   "metadata": {},
   "outputs": [
    {
     "data": {
      "text/plain": [
       "10"
      ]
     },
     "execution_count": 16,
     "metadata": {},
     "output_type": "execute_result"
    }
   ],
   "source": [
    "# len fonksiyonu liste üzerinde de kullanılabilir.\n",
    "listo = [1,2,3,4,5,6,7,8,9,\"e\"]\n",
    "len(listo)"
   ]
  },
  {
   "cell_type": "markdown",
   "id": "d9f7732b-afd6-46bd-97bc-a51849d2bad1",
   "metadata": {},
   "source": [
    "Bir string list() fonksiyonu yardımıyla listeye dönüştürülebilir."
   ]
  },
  {
   "cell_type": "code",
   "execution_count": 19,
   "id": "8e2af4f1-527e-459c-89fc-4fc400bcf0d5",
   "metadata": {},
   "outputs": [
    {
     "data": {
      "text/plain": [
       "['Ç',\n",
       " 'a',\n",
       " 'm',\n",
       " 'l',\n",
       " 'ı',\n",
       " 'c',\n",
       " 'a',\n",
       " ' ',\n",
       " 'K',\n",
       " 'ı',\n",
       " 'z',\n",
       " ' ',\n",
       " 'L',\n",
       " 'i',\n",
       " 's',\n",
       " 'e',\n",
       " 's',\n",
       " 'i']"
      ]
     },
     "execution_count": 19,
     "metadata": {},
     "output_type": "execute_result"
    }
   ],
   "source": [
    "e = \"Çamlıca Kız Lisesi\"\n",
    "m = list(e)\n",
    "m"
   ]
  },
  {
   "cell_type": "code",
   "execution_count": 23,
   "id": "a5f392c3-2f18-458f-bfe4-bff1fb415bd9",
   "metadata": {},
   "outputs": [
    {
     "data": {
      "text/plain": [
       "['m', 'e', 'r', 'h', 'a', 'b', 'a']"
      ]
     },
     "execution_count": 23,
     "metadata": {},
     "output_type": "execute_result"
    }
   ],
   "source": [
    "k = \"merhaba\"\n",
    "l = list(k)\n",
    "l"
   ]
  },
  {
   "cell_type": "code",
   "execution_count": 2,
   "id": "1aa11113-72f9-4adb-963e-f490f7236ec2",
   "metadata": {},
   "outputs": [
    {
     "data": {
      "text/plain": [
       "[11, 24, 76, 45, 90, 58, 23, 56]"
      ]
     },
     "execution_count": 2,
     "metadata": {},
     "output_type": "execute_result"
    }
   ],
   "source": [
    "sayilar = [11,24,76,45,90,58,23,56] \n",
    "sayilar"
   ]
  },
  {
   "cell_type": "code",
   "execution_count": 4,
   "id": "e520d1df-9429-4ea6-86a6-fb88d933616e",
   "metadata": {},
   "outputs": [
    {
     "data": {
      "text/plain": [
       "11"
      ]
     },
     "execution_count": 4,
     "metadata": {},
     "output_type": "execute_result"
    }
   ],
   "source": [
    "#0. indisteki eleman\n",
    "sayilar[0]"
   ]
  },
  {
   "cell_type": "code",
   "execution_count": 6,
   "id": "1fb3b6e5-9908-41fa-b9ba-2bffbcbf4cef",
   "metadata": {},
   "outputs": [
    {
     "data": {
      "text/plain": [
       "56"
      ]
     },
     "execution_count": 6,
     "metadata": {},
     "output_type": "execute_result"
    }
   ],
   "source": [
    "#son eleman\n",
    "sayilar[-1]"
   ]
  },
  {
   "cell_type": "code",
   "execution_count": 10,
   "id": "08d713cc-f050-42fd-8d9a-0a5e8f3c8b0b",
   "metadata": {},
   "outputs": [
    {
     "data": {
      "text/plain": [
       "7"
      ]
     },
     "execution_count": 10,
     "metadata": {},
     "output_type": "execute_result"
    }
   ],
   "source": [
    "#son elemanın indisi\n",
    "len(sayilar)-1"
   ]
  },
  {
   "cell_type": "code",
   "execution_count": 12,
   "id": "867acfeb-4fe0-42af-806d-9edf1827f36d",
   "metadata": {},
   "outputs": [
    {
     "data": {
      "text/plain": [
       "56"
      ]
     },
     "execution_count": 12,
     "metadata": {},
     "output_type": "execute_result"
    }
   ],
   "source": [
    "#son eleman >> sayilar listesinin len(sayilar)-1 . (yani sonuncu) indisindeki değeri getiriyor.\n",
    "sayilar[len(sayilar)-1]"
   ]
  },
  {
   "cell_type": "code",
   "execution_count": 14,
   "id": "092bd198-0d9c-435a-9076-a9f6d5754428",
   "metadata": {},
   "outputs": [
    {
     "data": {
      "text/plain": [
       "[11, 90]"
      ]
     },
     "execution_count": 14,
     "metadata": {},
     "output_type": "execute_result"
    }
   ],
   "source": [
    "#listenin 4'erli listelenmiş hali\n",
    "sayilar[::4]"
   ]
  },
  {
   "cell_type": "code",
   "execution_count": 16,
   "id": "6dc09ce9-f3fd-4c3b-aaad-25e8d53b463d",
   "metadata": {},
   "outputs": [
    {
     "data": {
      "text/plain": [
       "[90, 58, 23]"
      ]
     },
     "execution_count": 16,
     "metadata": {},
     "output_type": "execute_result"
    }
   ],
   "source": [
    "#listenin 4. indisten sonuncu indisine kadar (son indis dahil değil) listeleme\n",
    "sayilar[4:-1]"
   ]
  },
  {
   "cell_type": "code",
   "execution_count": 18,
   "id": "75344810-3a0e-4bef-ae72-35a0139cada2",
   "metadata": {},
   "outputs": [
    {
     "data": {
      "text/plain": [
       "[56, 58, 45, 24]"
      ]
     },
     "execution_count": 18,
     "metadata": {},
     "output_type": "execute_result"
    }
   ],
   "source": [
    "#listenin son indisinden başlayarak 2'şerli listeleme\n",
    "sayilar[::-2]"
   ]
  },
  {
   "cell_type": "markdown",
   "id": "79cb7c39-43f2-46ca-ad93-f3cea7252728",
   "metadata": {},
   "source": [
    "Temel Liste Metodları ve İşlemleri"
   ]
  },
  {
   "cell_type": "code",
   "execution_count": 23,
   "id": "91c09824-0074-4394-a667-d385190a7769",
   "metadata": {},
   "outputs": [
    {
     "data": {
      "text/plain": [
       "['k', 'l', 'm', 'n', 7, 8, 9, 10]"
      ]
     },
     "execution_count": 23,
     "metadata": {},
     "output_type": "execute_result"
    }
   ],
   "source": [
    "#listeleri birleştirme\n",
    "liste3 = [\"k\",\"l\",\"m\",\"n\"] \n",
    "liste4 = [7,8,9,10]\n",
    "liste3 + liste4 "
   ]
  },
  {
   "cell_type": "code",
   "execution_count": 27,
   "id": "2b6116ec-f3fd-4482-8e5e-9774dd8bbbf0",
   "metadata": {},
   "outputs": [
    {
     "data": {
      "text/plain": [
       "[1, 2, 3, 4, 'bilgi']"
      ]
     },
     "execution_count": 27,
     "metadata": {},
     "output_type": "execute_result"
    }
   ],
   "source": [
    "#listeye bir eleman eklemek\n",
    "ecem = [1,2,3,4]\n",
    "ecem = ecem + [\"bilgi\"]\n",
    "ecem"
   ]
  },
  {
   "cell_type": "code",
   "execution_count": 31,
   "id": "7c1e9eb4-a3b0-4ad6-8672-2898e4cceb80",
   "metadata": {},
   "outputs": [
    {
     "data": {
      "text/plain": [
       "[1, 2, 3, 'kola', 'bilgi']"
      ]
     },
     "execution_count": 31,
     "metadata": {},
     "output_type": "execute_result"
    }
   ],
   "source": [
    "ecem[3] = \"kola\" #3. indis değişir.\n",
    "ecem"
   ]
  },
  {
   "cell_type": "code",
   "execution_count": 37,
   "id": "225e962b-d089-4e54-831a-c68e7357c6c0",
   "metadata": {},
   "outputs": [
    {
     "data": {
      "text/plain": [
       "['qwerty', 20, 3, 'kola', 'bilgi']"
      ]
     },
     "execution_count": 37,
     "metadata": {},
     "output_type": "execute_result"
    }
   ],
   "source": [
    "ecem[:2] = [\"qwerty\", 20]\n",
    "ecem"
   ]
  },
  {
   "cell_type": "markdown",
   "id": "c56349fa-4235-4c18-8638-f917260cb0bb",
   "metadata": {},
   "source": [
    "#### Append Metodu"
   ]
  },
  {
   "cell_type": "code",
   "execution_count": 42,
   "id": "eda36b63-6a55-478e-abc2-f5ecf3b2c25b",
   "metadata": {},
   "outputs": [
    {
     "data": {
      "text/plain": [
       "[3, 4, 5, 7, 'ecem']"
      ]
     },
     "execution_count": 42,
     "metadata": {},
     "output_type": "execute_result"
    }
   ],
   "source": [
    "list = [3,4,5,7]\n",
    "list.append(\"ecem\")\n",
    "list"
   ]
  },
  {
   "cell_type": "markdown",
   "id": "9955a289-a219-418c-b1a4-345cdfc5e428",
   "metadata": {},
   "source": [
    "#### Pop Metodu"
   ]
  },
  {
   "cell_type": "markdown",
   "id": "d82e8f6c-7303-4c63-b492-9e467a63b191",
   "metadata": {},
   "source": [
    "indis belirtilirse belirtilen indisteki elemanı, belirtilmemişse son indisteki elemanı listeden atar ve bu elemanı yazdırır."
   ]
  },
  {
   "cell_type": "code",
   "execution_count": 50,
   "id": "7f402844-2f62-49e0-a679-5338f08014d6",
   "metadata": {},
   "outputs": [
    {
     "data": {
      "text/plain": [
       "'ecem'"
      ]
     },
     "execution_count": 50,
     "metadata": {},
     "output_type": "execute_result"
    }
   ],
   "source": [
    "list.pop()"
   ]
  },
  {
   "cell_type": "code",
   "execution_count": 52,
   "id": "3e4349a7-6de0-4852-b473-55a3ddf75007",
   "metadata": {},
   "outputs": [
    {
     "data": {
      "text/plain": [
       "[3, 4, 5, 7]"
      ]
     },
     "execution_count": 52,
     "metadata": {},
     "output_type": "execute_result"
    }
   ],
   "source": [
    "list"
   ]
  },
  {
   "cell_type": "code",
   "execution_count": 54,
   "id": "646f812e-06cd-44ac-8785-acd24908bf94",
   "metadata": {},
   "outputs": [
    {
     "data": {
      "text/plain": [
       "3"
      ]
     },
     "execution_count": 54,
     "metadata": {},
     "output_type": "execute_result"
    }
   ],
   "source": [
    "list.pop(0)"
   ]
  },
  {
   "cell_type": "code",
   "execution_count": 56,
   "id": "3fa3dc51-18f4-4876-a25b-56524a3c29ce",
   "metadata": {},
   "outputs": [
    {
     "data": {
      "text/plain": [
       "[4, 5, 7]"
      ]
     },
     "execution_count": 56,
     "metadata": {},
     "output_type": "execute_result"
    }
   ],
   "source": [
    "list"
   ]
  },
  {
   "cell_type": "markdown",
   "id": "c5e4c846-6214-4c26-a6c4-882ea480efb1",
   "metadata": {},
   "source": [
    "#### Sort Metodu"
   ]
  },
  {
   "cell_type": "code",
   "execution_count": 61,
   "id": "0425d96d-38f9-42e5-a3da-1e73d3a0418a",
   "metadata": {},
   "outputs": [
    {
     "data": {
      "text/plain": [
       "[1, 2, 3, 19, 23, 34, 56, 334]"
      ]
     },
     "execution_count": 61,
     "metadata": {},
     "output_type": "execute_result"
    }
   ],
   "source": [
    "liste = [34,1,56,334,23,2,3,19]\r\n",
    "liste.sort() # Küçükten büyüğe sıralar.\r\n",
    "liste"
   ]
  },
  {
   "cell_type": "code",
   "execution_count": 63,
   "id": "c004d5c5-980c-4391-9e64-a7e9572280da",
   "metadata": {},
   "outputs": [
    {
     "data": {
      "text/plain": [
       "[334, 56, 34, 23, 19, 3, 2, 1]"
      ]
     },
     "execution_count": 63,
     "metadata": {},
     "output_type": "execute_result"
    }
   ],
   "source": [
    "liste.sort(reverse = True) # Büyükten küçüğe sıralar.\n",
    "liste"
   ]
  },
  {
   "cell_type": "code",
   "execution_count": 65,
   "id": "865e097c-60db-4337-b323-0053689e468e",
   "metadata": {},
   "outputs": [
    {
     "data": {
      "text/plain": [
       "['Armut', 'Elma', 'Kiraz', 'Muz']"
      ]
     },
     "execution_count": 65,
     "metadata": {},
     "output_type": "execute_result"
    }
   ],
   "source": [
    "liste = [\"Elma\",\"Armut\",\"Muz\",\"Kiraz\"]\n",
    "liste.sort() # Alfabetic olarak küçükten büyüğe\n",
    "liste"
   ]
  },
  {
   "cell_type": "code",
   "execution_count": 67,
   "id": "a3ae0a6f-29aa-41ea-bac1-a6f9bb4b18dd",
   "metadata": {},
   "outputs": [
    {
     "data": {
      "text/plain": [
       "['Muz', 'Kiraz', 'Elma', 'Armut']"
      ]
     },
     "execution_count": 67,
     "metadata": {},
     "output_type": "execute_result"
    }
   ],
   "source": [
    "liste = [\"Elma\",\"Armut\",\"Muz\",\"Kiraz\"]\n",
    "liste.sort(reverse = True) # Alfabetic olarak büyükten küçüğe \n",
    "liste"
   ]
  },
  {
   "cell_type": "markdown",
   "id": "805f4123-1a71-4897-9c56-eb2a070677e4",
   "metadata": {},
   "source": [
    "#### İç içe Listeler"
   ]
  },
  {
   "cell_type": "code",
   "execution_count": 70,
   "id": "e0f30315-d8ad-4c0c-9128-0c2969a622c7",
   "metadata": {},
   "outputs": [
    {
     "data": {
      "text/plain": [
       "[[1, 2, 3], [4, 5, 6], [7, 8, 9]]"
      ]
     },
     "execution_count": 70,
     "metadata": {},
     "output_type": "execute_result"
    }
   ],
   "source": [
    "# 3 Tane liste oluşturalım.\n",
    "\n",
    "liste1 = [1,2,3]\n",
    "liste2 = [4,5,6]\n",
    "liste3 = [7,8,9]\n",
    "\n",
    "yeniliste = [liste1,liste2,liste3]\n",
    "yeniliste"
   ]
  },
  {
   "cell_type": "markdown",
   "id": "0d529dfd-89b2-4c64-8160-8c5b6c9f42df",
   "metadata": {},
   "source": [
    "Şimdi, 2. listenin ilk elemanına nasıl ulaşacağımıza bakalım."
   ]
  },
  {
   "cell_type": "code",
   "execution_count": 73,
   "id": "5a6fb8e3-065f-47b2-b985-1604b0b4b373",
   "metadata": {},
   "outputs": [
    {
     "data": {
      "text/plain": [
       "4"
      ]
     },
     "execution_count": 73,
     "metadata": {},
     "output_type": "execute_result"
    }
   ],
   "source": [
    "# 1.elemanın 0.elemanı\n",
    "yeniliste[1][0]"
   ]
  },
  {
   "cell_type": "code",
   "execution_count": null,
   "id": "509dc80a-1c53-4b93-aaa7-2916fe891899",
   "metadata": {},
   "outputs": [],
   "source": []
  }
 ],
 "metadata": {
  "kernelspec": {
   "display_name": "Python 3 (ipykernel)",
   "language": "python",
   "name": "python3"
  },
  "language_info": {
   "codemirror_mode": {
    "name": "ipython",
    "version": 3
   },
   "file_extension": ".py",
   "mimetype": "text/x-python",
   "name": "python",
   "nbconvert_exporter": "python",
   "pygments_lexer": "ipython3",
   "version": "3.12.4"
  }
 },
 "nbformat": 4,
 "nbformat_minor": 5
}
